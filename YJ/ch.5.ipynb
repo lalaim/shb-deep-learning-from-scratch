{
 "cells": [
  {
   "cell_type": "markdown",
   "metadata": {},
   "source": [
    "# 5장 오차역전파법\n",
    "\n",
    "## 5.4 단순한 계층 구현하기\n",
    "\n",
    "### ex) 사과 쇼핑\n",
    "\n",
    "- MulLayer : 곱셈 레이어\n",
    "- AddLayer : 덧셈 레이어\n",
    "\n",
    "### 5.4.1 곱셈 계층\n",
    "\n",
    "- 모든 계층은 forward()와 backward() 라는 공통의 메서드를 가짐.\n",
    "- forward() : 순전파 처리\n",
    "- backward() :  역전파 처리\n"
   ]
  },
  {
   "cell_type": "code",
   "execution_count": 2,
   "metadata": {},
   "outputs": [],
   "source": [
    "class MulLayer:\n",
    "    def __init__(self): # 인스턴스 변수인 x,y 초기화. 순전파 시의 입력값 유지를 위해 사용.\n",
    "        self.x = None\n",
    "        self.y = None\n",
    "\n",
    "    def forward(self, x, y):\n",
    "        self.x = x\n",
    "        self.y = y                \n",
    "        out = x * y # 두 입력값을 그대로 곱해서 출력\n",
    "\n",
    "        return out\n",
    "\n",
    "    def backward(self, dout): # dout는 상류에서 넘어온 미분임.\n",
    "        dx = dout * self.y  # 순전파 때의 값인 x와 y를 서로 바꿔서 곱함.\n",
    "        dy = dout * self.x\n",
    "\n",
    "        return dx, dy"
   ]
  },
  {
   "cell_type": "markdown",
   "metadata": {},
   "source": [
    "- MulLayer를 이용한 사과쇼핑 구현"
   ]
  },
  {
   "cell_type": "code",
   "execution_count": 3,
   "metadata": {},
   "outputs": [
    {
     "name": "stdout",
     "output_type": "stream",
     "text": [
      "price: 220\n",
      "dApple: 2.2\n",
      "dApple_num: 110\n",
      "dTax: 200\n"
     ]
    }
   ],
   "source": [
    "apple = 100 # 사과 1개의 가격\n",
    "apple_num = 2 # 사과의 개수\n",
    "tax = 1.1 # 소비세\n",
    "\n",
    "mul_apple_layer = MulLayer()\n",
    "mul_tax_layer = MulLayer()\n",
    "\n",
    "# forward (순전파)\n",
    "apple_price = mul_apple_layer.forward(apple, apple_num)\n",
    "price = mul_tax_layer.forward(apple_price, tax)\n",
    "\n",
    "# backward (역전파) : 각 변수의 미분을 구할 수 있음.\n",
    "dprice = 1\n",
    "dapple_price, dtax = mul_tax_layer.backward(dprice)\n",
    "dapple, dapple_num = mul_apple_layer.backward(dapple_price)\n",
    "\n",
    "print(\"price:\", int(price)) #\n",
    "print(\"dApple:\", dapple)\n",
    "print(\"dApple_num:\", int(dapple_num))\n",
    "print(\"dTax:\", dtax)"
   ]
  },
  {
   "cell_type": "markdown",
   "metadata": {},
   "source": [
    "- backword()의 호출 순서는 forward()때와 반대.\n",
    "### backword()가 받는 인수는 '순전파의 출력에 대한 미분' 임에 주의할 것!!"
   ]
  },
  {
   "cell_type": "markdown",
   "metadata": {},
   "source": [
    "### 5.4.2 덧셈 계층"
   ]
  },
  {
   "cell_type": "code",
   "execution_count": 4,
   "metadata": {},
   "outputs": [],
   "source": [
    "class AddLayer:\n",
    "    def __init__(self):\n",
    "        pass # 덧셈 계층에서는 초기화가 필요하지 않기 때문에 아무것도 하지 않음.\n",
    "\n",
    "    def forward(self, x, y):\n",
    "        out = x + y # 입력받은 인수를 그냥 더하기만 해서 반환.\n",
    "\n",
    "        return out\n",
    "\n",
    "    def backward(self, dout):\n",
    "        dx = dout * 1 # 상류에서 전달받은 미분을 그대로 하류로 전달.\n",
    "        dy = dout * 1 \n",
    "\n",
    "        return dx, dy"
   ]
  },
  {
   "cell_type": "markdown",
   "metadata": {},
   "source": [
    "### 덧셈과 곱셈의 계층을 사용한 사과 쇼핑 구현"
   ]
  },
  {
   "cell_type": "code",
   "execution_count": 5,
   "metadata": {},
   "outputs": [
    {
     "name": "stdout",
     "output_type": "stream",
     "text": [
      "price: 715\n",
      "dApple: 2.2\n",
      "dApple_num: 110\n",
      "dOrange: 3.3000000000000003\n",
      "dOrange_num: 165\n",
      "dTax: 650\n"
     ]
    }
   ],
   "source": [
    "apple = 100\n",
    "apple_num = 2\n",
    "orange = 150\n",
    "orange_num = 3\n",
    "tax = 1.1\n",
    "\n",
    "# 필요한 계층(layer)들 생성\n",
    "mul_apple_layer = MulLayer()\n",
    "mul_orange_layer = MulLayer()\n",
    "add_apple_orange_layer = AddLayer()\n",
    "mul_tax_layer = MulLayer()\n",
    "\n",
    "# 순전파(forward) 실시\n",
    "apple_price = mul_apple_layer.forward(apple, apple_num)  # (1)\n",
    "orange_price = mul_orange_layer.forward(orange, orange_num)  # (2)\n",
    "all_price = add_apple_orange_layer.forward(apple_price, orange_price)  # (3)\n",
    "price = mul_tax_layer.forward(all_price, tax)  # (4)\n",
    "\n",
    "# 순전파와 반대 순서로 역전파(backward) 실시\n",
    "dprice = 1\n",
    "dall_price, dtax = mul_tax_layer.backward(dprice)  # (4)\n",
    "dapple_price, dorange_price = add_apple_orange_layer.backward(dall_price)  # (3)\n",
    "dorange, dorange_num = mul_orange_layer.backward(dorange_price)  # (2)\n",
    "dapple, dapple_num = mul_apple_layer.backward(dapple_price)  # (1)\n",
    "\n",
    "print(\"price:\", int(price))\n",
    "print(\"dApple:\", dapple)\n",
    "print(\"dApple_num:\", int(dapple_num))\n",
    "print(\"dOrange:\", dorange)\n",
    "print(\"dOrange_num:\", int(dorange_num))\n",
    "print(\"dTax:\", dtax)"
   ]
  },
  {
   "cell_type": "markdown",
   "metadata": {},
   "source": [
    "-> 이처럼 계산 그래프에서의 계층은 쉽게 구현할 수 있으며, 이를 사용해 복잡한 미분도 계산할 수 있다!"
   ]
  },
  {
   "cell_type": "markdown",
   "metadata": {},
   "source": [
    "## 5.5 활성화 함수 계층 구현하기\n",
    "\n",
    "- 신경망에서 사용하는 계층 구현. 신경망을 구성하는 층(계층) 각각을 클래스 하나로 구현.\n",
    "\n",
    "\n",
    "### 5.5.1 ReLU 계층\n",
    "\n",
    "- 활성화 함수로 사용되는 ReLU의 수식은 다음과 같음.\n",
    "---------\n",
    "y = X (x>0)  \n",
    "    0 (x<=0)\n",
    "---------\n",
    "여기에서 x에 대한 y의 미분은 다음과 같이 구함.\n",
    "\n",
    "------------\n",
    "dy / dx = 1 (x>0)  \n",
    "        0 (x<=0)\n",
    "--------\n",
    "--> 순전파 때의 입력인 x가 0보다 크면 역전파는 상류의 값을 하류로 그대로 흘려보내고,\n",
    "0 이하면 역전파 때 하류로 신호를 보내지 않음.\n",
    "\n",
    "\n",
    "#### - ReLU 계층 구현 코드"
   ]
  },
  {
   "cell_type": "code",
   "execution_count": 7,
   "metadata": {},
   "outputs": [],
   "source": [
    "class Relu:\n",
    "    def __init__(self):\n",
    "        self.mask = None \n",
    "        # mask는 True/False로 구성된 넘파이 배열로,\n",
    "        # 순전파의 입력인 x의 원소 값이 0 이하면 True, 이상이면 False로 유지.\n",
    "\n",
    "    def forward(self, x):\n",
    "        self.mask = (x <= 0)\n",
    "        out = x.copy()\n",
    "        out[self.mask] = 0\n",
    "\n",
    "        return out\n",
    "\n",
    "    def backward(self, dout):\n",
    "        dout[self.mask] = 0 # mask가 True인 곳에서는 상류에서 전파된 dout를 0으로 설정.\n",
    "        dx = dout\n",
    "\n",
    "        return dx\n"
   ]
  },
  {
   "cell_type": "markdown",
   "metadata": {},
   "source": [
    "### 5.5.2 Sigmoid 계층\n",
    "\n",
    "- 시그모이드 함수\n",
    "\n",
    "y = 1 / {1+exp(-x)}\n",
    "\n",
    "- 'exp' 노드는 y = exp(x) 계산을 수행하고 '/' 노드는 y = 1/x 계산을 수행함.\n",
    "\n",
    "\n",
    "---\n",
    "\n",
    "#### 1단계\n",
    "\n",
    "\n",
    "- '/' 노드 미분 시\n",
    "\n",
    "dy/dx = -1/x^2 = -y^2\n",
    "\n",
    "\n",
    "\n",
    "-> 역전파 때는 상류에서 흘러온 값에 -y^2 을 곱해서 하류로 전달.\n",
    "\n",
    "---\n",
    "\n",
    "#### 2단계\n",
    "\n",
    "- '+' 노드는 상류의 값을 여과 없이 하류로 내보냄.\n",
    "\n",
    "---\n",
    "#### 3단계\n",
    "\n",
    "- 'exp' 노드는 y = exp(x) 연산을 수행하며, 그 미분은 다음과 같다.\n",
    "\n",
    "dy / dx = exp(x)\n",
    "\n",
    "-> 상류의 값에 순전파 때의 출력을 곱해 하류로 전파함.\n",
    "\n",
    "---\n",
    "\n",
    "#### 4단계\n",
    "\n",
    "- 'x' 노드는 순전파 때의 값을 '서로 바꿔' 곱함.\n",
    "\n",
    "---\n",
    "\n",
    "- Sigmoid의 경우, 역전파의 최종 출력이 순전파의 입력인 x와 y만으로 계산이 가능하다.  \n",
    "따라서 계산의 중간 과정들을 모두 묶어 단순한 'sigmoid' 노드 하나로 대체 할 수 있음.\n",
    "### -> 간소화하게 되면 중간 계산들을 생략할 수 있어 더 효율적인 계산이고, 노드를 그룹화하여 입력과 출력에만 집중할 수 있다는 점이 중요 포인트임.\n",
    "\n",
    "\n",
    "- 역전파의 최종 출력물 또한 한번 더 정리하면 y만으로 계산이 가능해짐.  \n",
    "-> 이처럼 Sigmoid 계층의 역전파는 순전파의 출력(y)만으로 계산이 가능하다.\n",
    "\n",
    "#### - Sigmoid 계층 코드 구현"
   ]
  },
  {
   "cell_type": "code",
   "execution_count": 8,
   "metadata": {},
   "outputs": [],
   "source": [
    "class Sigmoid:\n",
    "    def __init__(self):\n",
    "        self.out = None\n",
    "\n",
    "    def forward(self, x):\n",
    "        out = sigmoid(x) \n",
    "        self.out = out\n",
    "        return out\n",
    "\n",
    "    # 순전파의 출력을 인스턴스 변수  out에 보관했다가, 역전파때 그 값을 사용함.\n",
    "\n",
    "    def backward(self, dout):\n",
    "        dx = dout * (1.0 - self.out) * self.out\n",
    "\n",
    "        return dx\n"
   ]
  },
  {
   "cell_type": "code",
   "execution_count": null,
   "metadata": {},
   "outputs": [],
   "source": []
  }
 ],
 "metadata": {
  "kernelspec": {
   "display_name": "Python 3",
   "language": "python",
   "name": "python3"
  },
  "language_info": {
   "codemirror_mode": {
    "name": "ipython",
    "version": 3
   },
   "file_extension": ".py",
   "mimetype": "text/x-python",
   "name": "python",
   "nbconvert_exporter": "python",
   "pygments_lexer": "ipython3",
   "version": "3.6.8"
  }
 },
 "nbformat": 4,
 "nbformat_minor": 2
}

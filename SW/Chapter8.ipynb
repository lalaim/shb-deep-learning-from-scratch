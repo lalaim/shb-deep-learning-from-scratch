{
 "cells": [
  {
   "cell_type": "markdown",
   "metadata": {},
   "source": [
    "# 8.3 더 빠르게 (딥러닝 고속화)\n",
    "* 빅데이터와 네트워크의 발전으로 딥러닝에서 대량의 연산을 수행\n",
    "* GPU를 활용한 대량 연산으로 고속 처리"
   ]
  },
  {
   "cell_type": "markdown",
   "metadata": {},
   "source": [
    "## 8.3.1 풀어야 할 숙제\n",
    "<img src=\"./AlexNet.png\" width=\"70%\" height=\"70%\" title='AlexNet'></img><br/>\n",
    "* [그림 8-14]를 통해 합성곱 계층에서 많은 시간이 소요됨을 알 수 있다.\n",
    "* 합성곱 계층에서 연산을 고속으로 하는 것이 과제"
   ]
  },
  {
   "cell_type": "markdown",
   "metadata": {},
   "source": [
    "## 8.3.2 GPU를 활용한 고속화\n",
    "* GPU의 병렬 수치 연산을 고속으로 처리할 수 있는 GPU의 힘을 활용\n",
    "* 이러한 범용 수치 연산을 수행하는 것을 GPU 켬퓨팅\n",
    "* 딥러닝은 단일 곱셈-누산, 큰행렬의 곱을 수행\n",
    "<img src=\"./단일곱셈누산기.png\" width=\"100%\" height=\"100%\"></img><br/>\n",
    "* GPU는 대량 병렬 연산에 특기, 반대로 CPU는 연속적인 복잡한 계산을 잘 처리\n",
    "* [그림 8-15]를 통해 GPU 사용 시, 빨라짐을 알 수 있다.<br\\><br\\>\n",
    "* CUDA\n",
    "<img src=\"./CUDA.jpg\" width=\"40%\" height=\"40%\"></img><br/>\n",
    "    * GPU 컴퓨팅용 통합 개발 환경\n",
    "    * 그래픽 애플리케이션 프로그래밍 인터페이스에 익숙치 않은 일반 프로그래머에게 GPU 이용이 쉽도록 했다.<br\\><br\\>\n",
    "* cuDNN (CUDA® Deep Neural Network library)\n",
    "<img src=\"./cuDNN.jpg\" width=\"40%\" height=\"40%\"></img><br/>\n",
    "    * 딥 뉴럴 네트워크를 위한 GPU 가속화 라이브러리의 기초 요소로 컨볼루션(Convolution), 풀링(Pooling), 표준화(Nomarlization), 활성화(Activation)와 같은 일반적인 루틴을 빠르게 이행할 수 있도록 하는 라이브러리이다"
   ]
  },
  {
   "cell_type": "markdown",
   "metadata": {},
   "source": [
    "## 8.3.3 분산 학습\n",
    "* 많은 시행착오를 통해 최적의 신경망 학습을 하려면 1회 학습에 걸리는 시간을 줄이고 반복해야 한다.\n",
    "* 이를 위해 다수의 GPU와 기기로 분산하여 딥러닝 계산하는 것을 분산 학습이라 한다.\n",
    "* 구글의 텐서플로우나 마이크로소프트의 CNTK가 분산 학습에 역점을 두고 개발하고 있다.\n",
    "* [그림8-16]을 통해 분산 학습시 성능을 비교할 수 있다."
   ]
  },
  {
   "cell_type": "markdown",
   "metadata": {},
   "source": [
    "## 8.3.4 연산 정밀도와 비트 줄이기\n",
    "* 계산 능력 외에도 메모리 용량과 버스 대역폭 등이 딥러닝 고속화에 병목이 될 수 있다.\n",
    "* 컴퓨터는 주로 64비트나 32비트의 부종소수점으로 수를 표현한다.\n",
    "* 딥러닝이 높은 수치 정밀도를 요구하지 않는다는 특성 덕분에 신경망을 흐르는 데이터를 최화시켜도 출력에 주는 영향은 적다.\n",
    "<img src=\"./부동소수점.png\" width=\"70%\" height=\"70%\"></img><br/>\n",
    "* 지금까지의 실험으로 16비트 반정밀도를 사용해 학습해도 문제가 없다고 알려져 있다.\n",
    "* 현재까지도 비트 수를 줄이는 연구가 진행되고 있다."
   ]
  },
  {
   "cell_type": "markdown",
   "metadata": {},
   "source": [
    "# 8.4 딥러닝의 활용\n",
    "* 딥러닝은 이미지, 음성, 자연어 등 수많은 분야에 뛰어난 성능 발휘"
   ]
  },
  {
   "cell_type": "markdown",
   "metadata": {},
   "source": [
    "## 8.4.1 사물 검출\n",
    "* 이미지 속에 사물의 위치와 종류를 알아내는 기술\n",
    "* 사물 인식과 다르게 위치를 알아야하는 어려움이 있다.\n",
    "<img src=\"./r-cnn.jpg\" width=\"70%\" height=\"70%\"></img><br/>\n",
    "* 후보 영역 추출 -> CNN으로 특성 계산\n",
    "* 후보 영역을 추출까지 CNN으로 하는 Faster R-CNN기법도 등장\n",
    "* Fast R-CNN, Single Shot Multi Box Detector"
   ]
  },
  {
   "cell_type": "markdown",
   "metadata": {},
   "source": [
    "## 8.4.2 분할\n",
    "* 이미지를 픽셀 수준에서 분류, Semantic Segmentation\n",
    "* FCN (Fully Convolutional Network) 사용, 합성곱 계층으로만 구성\n",
    "<img src=\"./semanticsementation.png\" width=\"70%\" height=\"70%\"></img><br/>"
   ]
  },
  {
   "cell_type": "markdown",
   "metadata": {},
   "source": [
    "## 8.4.3 사진 캡션 생성\n",
    "* 사진을 설명하는 글 생성\n",
    "* NIC (Neural Image Caption)\n",
    "* CNN과 RNN의 조합\n",
    "* 이처럼 사진이나 자연어와 같이 여러종류의 정보를 조합하고 처리하는 것을 멀티모달 처리라고 합니다."
   ]
  },
  {
   "cell_type": "markdown",
   "metadata": {},
   "source": [
    "# 8.5 딥러닝의 미래"
   ]
  },
  {
   "cell_type": "markdown",
   "metadata": {},
   "source": [
    "## 8.5.1 이미지 스타일(화풍) 변환\n",
    "* 입력 이미지에서 콘텐츠 이미지 형태를 흉내낸 이미지 생성\n",
    "* 참고: <https://github.com/hwalsuklee/tensorflow-style-transfer>\n",
    "<img src=\"styletransfer.jpg\" width=\"70%\" height=\"70%\"></img><br/>"
   ]
  },
  {
   "cell_type": "markdown",
   "metadata": {},
   "source": [
    "## 8.5.2 이미지 생성\n",
    "* 입력 이미지 없이도 새로운 그림을 생성\n",
    "* DCGAN(Deep Convolutional Generative Adversarial Network)\n",
    "* 진짜와 똑같은 이미지를 생성하는 생성자(G)와 진짜인지 판정하는 식별자(D)로 불리는 2개의 신경망 이용\n",
    "<img src=\"GANarch.jpg\" width=\"50%\" height=\"50%\"></img><br/>\n",
    "* GAN, WGAN, EBGAN, CycleGAN, DiscoGAN, StarGAN 등 많은 연구가 진행중\n",
    "<img src=\"ganex1.png\" width=\"70%\" height=\"70%\"></img><br/>\n",
    "<img src=\"ganex2.png\" width=\"70%\" height=\"70%\"></img><br/>\n",
    "<img src=\"ganex3.png\" width=\"70%\" height=\"70%\"></img><br/>"
   ]
  },
  {
   "cell_type": "markdown",
   "metadata": {},
   "source": [
    "## 8.5.3 자율 주행\n",
    "* 주위 환경을 올바르게 인식하는 기술이 가장 중요한 문제\n",
    "* SegNet\n",
    "<img src=\"segnet.jpg\" width=\"70%\" height=\"70%\"></img><br/>"
   ]
  },
  {
   "cell_type": "markdown",
   "metadata": {},
   "source": [
    "## 8.5.4 Deep Q-Network(강화학습)\n",
    "* 지도 학습과는 다르게 어떤 보상을 통해 시행착오를 겪으며 학습하는 것을 강화학습이라고 한다.\n",
    "* 사례로는 DQN을 통해 비디오 게임을 자율 학습시켜 사람을 뛰어넘는 수준의 조작을 실현한 것이 있다.\n",
    "<img src=\"dqn.gif\" width=\"50%\" height=\"50%\"></img><br/>"
   ]
  }
 ],
 "metadata": {
  "kernelspec": {
   "display_name": "Python 3",
   "language": "python",
   "name": "python3"
  },
  "language_info": {
   "codemirror_mode": {
    "name": "ipython",
    "version": 3
   },
   "file_extension": ".py",
   "mimetype": "text/x-python",
   "name": "python",
   "nbconvert_exporter": "python",
   "pygments_lexer": "ipython3",
   "version": "3.6.3"
  }
 },
 "nbformat": 4,
 "nbformat_minor": 2
}
